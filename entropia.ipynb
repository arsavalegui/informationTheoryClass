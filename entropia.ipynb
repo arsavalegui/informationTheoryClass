{
 "cells": [
  {
   "cell_type": "code",
   "execution_count": 5,
   "metadata": {},
   "outputs": [
    {
     "name": "stdout",
     "output_type": "stream",
     "text": [
      "El conjunto de datos es: [5, 15, 20, 12, 7, 2, 1, 1, 16, 13, 13, 5, 1, 5, 5, 9, 1, 17, 2, 14]\n",
      "{1: 4, 9: 1, 12: 1, 7: 1}\n",
      "La entropia es:  1.1126748332105767\n",
      "{1: 1, 12: 1}\n",
      "{9: 1, 12: 3, 7: 2, 18: 1}\n",
      "{1: 1, 12: 1, 7: 1, 18: 1}\n",
      "{1: 2, 9: 2, 12: 2, 7: 1}\n",
      "{1: 1, 9: 3, 12: 3, 7: 1}\n",
      "{1: 2, 7: 1}\n",
      "{1: 2, 7: 2}\n",
      "{9: 1, 18: 1}\n",
      "{1: 1, 7: 1, 18: 1}\n",
      "{1: 2, 12: 1, 7: 1}\n"
     ]
    },
    {
     "data": {
      "image/png": "[encoded data removed]",
      "text/plain": [
       "<Figure size 432x288 with 1 Axes>"
      ]
     },
     "metadata": {
      "needs_background": "light"
     },
     "output_type": "display_data"
    }
   ],
   "source": [
    "import random\n",
    "import math \n",
    "import matplotlib.pyplot as plt\n",
    "\n",
    "\n",
    "def entropia(datos):\n",
    "\n",
    "    entropia = 0\n",
    "\n",
    "    total = len(datos)\n",
    "    umbral = [1,9,12,7,9,18]\n",
    "\n",
    "    if total == 0:\n",
    "        return entropia\n",
    "\n",
    "    frecuencias = {}\n",
    "    \n",
    "    for valor in umbral:\n",
    "        conteo = datos.count(valor)\n",
    "        if conteo > 0:\n",
    "            frecuencias[valor] = conteo\n",
    "\n",
    "    print(frecuencias)\n",
    "\n",
    "    for frecuencia in frecuencias.values():\n",
    "        prob = frecuencia/total\n",
    "        entropia -= prob * math.log2(prob)\n",
    "\n",
    "    return entropia\n",
    "\n",
    "datos = [random.randint(1, 20) for _ in range(20)]\n",
    "# datos = [1,2,2,2,2,2,2,2,2,2,2,2,2,2,2,2,2,2,2,2]\n",
    "\n",
    "print(f\"El conjunto de datos es: {datos}\")\n",
    "print(\"La entropia es: \", entropia(datos))\n",
    "\n",
    "entropias = []\n",
    "muestras = 10 #muestras para entropia promedio\n",
    "\n",
    "for _ in range(muestras):\n",
    "    datos = [random.randint(1, 20) for _ in range(20)]\n",
    "    entropias.append(entropia(datos))\n",
    "\n",
    "plt.hist(entropias, bins=20, density=True, alpha=0.5, color='b')\n",
    "plt.xlabel('Entropía')\n",
    "plt.ylabel('Frecuencia')\n",
    "plt.title('Distribución de Entropía')\n",
    "plt.grid(True)\n",
    "plt.show()\n"
   ]
  }
 ],
 "metadata": {
  "kernelspec": {
   "display_name": "myCondaVenv",
   "language": "python",
   "name": "python3"
  },
  "language_info": {
   "codemirror_mode": {
    "name": "ipython",
    "version": 3
   },
   "file_extension": ".py",
   "mimetype": "text/x-python",
   "name": "python",
   "nbconvert_exporter": "python",
   "pygments_lexer": "ipython3",
   "version": "3.6.13"
  },
  "orig_nbformat": 4
 },
 "nbformat": 4,
 "nbformat_minor": 2
}
